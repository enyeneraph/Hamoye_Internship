{
  "nbformat": 4,
  "nbformat_minor": 0,
  "metadata": {
    "colab": {
      "name": "StageB_quiz.ipynb",
      "provenance": []
    },
    "kernelspec": {
      "name": "python3",
      "display_name": "Python 3"
    },
    "language_info": {
      "name": "python"
    }
  },
  "cells": [
    {
      "cell_type": "markdown",
      "metadata": {
        "id": "22eu6tyJUACt"
      },
      "source": [
        "# **Stage B quiz answers/codes**"
      ]
    },
    {
      "cell_type": "markdown",
      "metadata": {
        "id": "UHO4_crdUO__"
      },
      "source": [
        "### **Question 1**"
      ]
    },
    {
      "cell_type": "code",
      "metadata": {
        "id": "KdDLUDUKUCBP"
      },
      "source": [
        "#Q: In linear regression, L2 regularization is equivalent to imposing a:\n",
        "\n",
        "#A: Gaussian prior"
      ],
      "execution_count": 51,
      "outputs": []
    },
    {
      "cell_type": "markdown",
      "metadata": {
        "id": "zqdMtlnOUewv"
      },
      "source": [
        "### **Question 2**"
      ]
    },
    {
      "cell_type": "code",
      "metadata": {
        "id": "JH_EQbJZUeZo"
      },
      "source": [
        "# Q: Cross validation\n",
        "\n",
        "#A : Is guaranteed to prevent overfitting and Is often used to select hyperparameters\n"
      ],
      "execution_count": 43,
      "outputs": []
    },
    {
      "cell_type": "markdown",
      "metadata": {
        "id": "zj6BZTm9UmbT"
      },
      "source": [
        "### **Question 3**"
      ]
    },
    {
      "cell_type": "code",
      "metadata": {
        "id": "1opkR-ndT9yX"
      },
      "source": [
        "#Q: Ridge regression:\n",
        "\n",
        "#A: Reduces variance at the expense of higher bias"
      ],
      "execution_count": 5,
      "outputs": []
    },
    {
      "cell_type": "markdown",
      "metadata": {
        "id": "AuzHAMFZUomI"
      },
      "source": [
        "### **Question 4**"
      ]
    },
    {
      "cell_type": "code",
      "metadata": {
        "id": "Dwyiyv_0Urbn"
      },
      "source": [
        "#Q: In the different terms of the bias-variance tradeoff, which of the following is substantially more harmful to the test error than the training error?\n",
        "\n",
        "#A: Variance"
      ],
      "execution_count": 5,
      "outputs": []
    },
    {
      "cell_type": "markdown",
      "metadata": {
        "id": "oCTB_clLUtdT"
      },
      "source": [
        "### **Question 5**"
      ]
    },
    {
      "cell_type": "code",
      "metadata": {
        "id": "xKv8J7jaUvK_"
      },
      "source": [
        "#Q: What can you use to find the best fit line for data in Linear Regression\n",
        "\n",
        "#A: Least Square Error"
      ],
      "execution_count": 45,
      "outputs": []
    },
    {
      "cell_type": "markdown",
      "metadata": {
        "id": "biMUicAVUvoM"
      },
      "source": [
        "### **Question 6**"
      ]
    },
    {
      "cell_type": "code",
      "metadata": {
        "id": "Ew5rEpc-UxF9"
      },
      "source": [
        "#Q: Which of the following sentence is true about outliers in Linear Regression:\n",
        "\n",
        "#A: Linear regression is sensitive to outliers"
      ],
      "execution_count": 46,
      "outputs": []
    },
    {
      "cell_type": "markdown",
      "metadata": {
        "id": "F9gkLE3NUyU8"
      },
      "source": [
        "### **Question 7**"
      ]
    },
    {
      "cell_type": "code",
      "metadata": {
        "id": "W-wkE5tvJto6"
      },
      "source": [
        "#Q: How many coefficients do you need to estimate a simple linear regression model (One independent variable)?\n",
        "\n",
        "#A: 2"
      ],
      "execution_count": null,
      "outputs": []
    },
    {
      "cell_type": "markdown",
      "metadata": {
        "id": "WWLVkjkpU6OB"
      },
      "source": [
        "### **Question 8**"
      ]
    },
    {
      "cell_type": "code",
      "metadata": {
        "id": "W2iNznmkU1zr"
      },
      "source": [
        "#Q: Adding more basis functions in a linear model:\n",
        "\n",
        "#A: Decreases model bias"
      ],
      "execution_count": 47,
      "outputs": []
    },
    {
      "cell_type": "markdown",
      "metadata": {
        "id": "OgDCBmQOVCnD"
      },
      "source": [
        "### **Question 9**"
      ]
    },
    {
      "cell_type": "code",
      "metadata": {
        "id": "eqYhK3axr1xy"
      },
      "source": [
        "#Q:A best fit line relating X and Y has a R-Squared value of 0.75. How do I interpret this information?\n",
        "\n",
        "#A: The model is performing with 75% accuracy"
      ],
      "execution_count": 5,
      "outputs": []
    },
    {
      "cell_type": "markdown",
      "metadata": {
        "id": "1iU_YTprr2Zy"
      },
      "source": [
        "### **Question 10**"
      ]
    },
    {
      "cell_type": "code",
      "metadata": {
        "id": "KRsaH7BAsUmB"
      },
      "source": [
        "#Q: The Lasso can be interpreted as least-squares linear regression where:\n",
        "\n",
        "#A: Weights are regularized with the L1 norm"
      ],
      "execution_count": 48,
      "outputs": []
    },
    {
      "cell_type": "markdown",
      "metadata": {
        "id": "R2UD-imzsVWo"
      },
      "source": [
        "### **Question 11**"
      ]
    },
    {
      "cell_type": "code",
      "metadata": {
        "id": "0gNcL6fisXUD"
      },
      "source": [
        "#Q: Which of these is not an assumption of Linear Regression?\n",
        "\n",
        "#A: Heteroscedasticity"
      ],
      "execution_count": 49,
      "outputs": []
    },
    {
      "cell_type": "markdown",
      "metadata": {
        "id": "L_36jwwcvO07"
      },
      "source": [
        "### **Preprocessing**"
      ]
    },
    {
      "cell_type": "code",
      "metadata": {
        "id": "iwOxaEfJvNoD"
      },
      "source": [
        "#Importing the necessary libraries\n",
        "%matplotlib inline\n",
        "\n",
        "import numpy as np \n",
        "import pandas as pd\n",
        "import matplotlib.pyplot as plt\n",
        "import seaborn as sns\n",
        "from sklearn.metrics import mean_absolute_error, mean_squared_error, r2_score\n",
        "from sklearn.model_selection import train_test_split\n",
        "from sklearn.linear_model import LinearRegression, Lasso, Ridge\n",
        "from sklearn.preprocessing import MinMaxScaler"
      ],
      "execution_count": 6,
      "outputs": []
    },
    {
      "cell_type": "code",
      "metadata": {
        "id": "aegfdi-KvdY2"
      },
      "source": [
        "#Reading the dataset\n",
        "df = pd.read_csv('https://archive.ics.uci.edu/ml/machine-learning-databases/00374/energydata_complete.csv')"
      ],
      "execution_count": 7,
      "outputs": []
    },
    {
      "cell_type": "code",
      "metadata": {
        "colab": {
          "base_uri": "https://localhost:8080/",
          "height": 222
        },
        "id": "mPohW7QYxA7M",
        "outputId": "1cd496b2-5701-448b-ed96-d61c5319473f"
      },
      "source": [
        "#Dropping columns dates and lights\n",
        "df = df.drop(['date', 'lights'], axis= 1)\n",
        "\n",
        "#normalizing the dataset\n",
        "scaler = MinMaxScaler()\n",
        "normalized_df = pd.DataFrame(scaler.fit_transform(df), columns=df.columns)\n",
        "\n",
        "df.head()\n",
        "\n"
      ],
      "execution_count": 8,
      "outputs": [
        {
          "output_type": "execute_result",
          "data": {
            "text/html": [
              "<div>\n",
              "<style scoped>\n",
              "    .dataframe tbody tr th:only-of-type {\n",
              "        vertical-align: middle;\n",
              "    }\n",
              "\n",
              "    .dataframe tbody tr th {\n",
              "        vertical-align: top;\n",
              "    }\n",
              "\n",
              "    .dataframe thead th {\n",
              "        text-align: right;\n",
              "    }\n",
              "</style>\n",
              "<table border=\"1\" class=\"dataframe\">\n",
              "  <thead>\n",
              "    <tr style=\"text-align: right;\">\n",
              "      <th></th>\n",
              "      <th>Appliances</th>\n",
              "      <th>T1</th>\n",
              "      <th>RH_1</th>\n",
              "      <th>T2</th>\n",
              "      <th>RH_2</th>\n",
              "      <th>T3</th>\n",
              "      <th>RH_3</th>\n",
              "      <th>T4</th>\n",
              "      <th>RH_4</th>\n",
              "      <th>T5</th>\n",
              "      <th>RH_5</th>\n",
              "      <th>T6</th>\n",
              "      <th>RH_6</th>\n",
              "      <th>T7</th>\n",
              "      <th>RH_7</th>\n",
              "      <th>T8</th>\n",
              "      <th>RH_8</th>\n",
              "      <th>T9</th>\n",
              "      <th>RH_9</th>\n",
              "      <th>T_out</th>\n",
              "      <th>Press_mm_hg</th>\n",
              "      <th>RH_out</th>\n",
              "      <th>Windspeed</th>\n",
              "      <th>Visibility</th>\n",
              "      <th>Tdewpoint</th>\n",
              "      <th>rv1</th>\n",
              "      <th>rv2</th>\n",
              "    </tr>\n",
              "  </thead>\n",
              "  <tbody>\n",
              "    <tr>\n",
              "      <th>0</th>\n",
              "      <td>60</td>\n",
              "      <td>19.89</td>\n",
              "      <td>47.596667</td>\n",
              "      <td>19.2</td>\n",
              "      <td>44.790000</td>\n",
              "      <td>19.79</td>\n",
              "      <td>44.730000</td>\n",
              "      <td>19.000000</td>\n",
              "      <td>45.566667</td>\n",
              "      <td>17.166667</td>\n",
              "      <td>55.20</td>\n",
              "      <td>7.026667</td>\n",
              "      <td>84.256667</td>\n",
              "      <td>17.200000</td>\n",
              "      <td>41.626667</td>\n",
              "      <td>18.2</td>\n",
              "      <td>48.900000</td>\n",
              "      <td>17.033333</td>\n",
              "      <td>45.53</td>\n",
              "      <td>6.600000</td>\n",
              "      <td>733.5</td>\n",
              "      <td>92.0</td>\n",
              "      <td>7.000000</td>\n",
              "      <td>63.000000</td>\n",
              "      <td>5.3</td>\n",
              "      <td>13.275433</td>\n",
              "      <td>13.275433</td>\n",
              "    </tr>\n",
              "    <tr>\n",
              "      <th>1</th>\n",
              "      <td>60</td>\n",
              "      <td>19.89</td>\n",
              "      <td>46.693333</td>\n",
              "      <td>19.2</td>\n",
              "      <td>44.722500</td>\n",
              "      <td>19.79</td>\n",
              "      <td>44.790000</td>\n",
              "      <td>19.000000</td>\n",
              "      <td>45.992500</td>\n",
              "      <td>17.166667</td>\n",
              "      <td>55.20</td>\n",
              "      <td>6.833333</td>\n",
              "      <td>84.063333</td>\n",
              "      <td>17.200000</td>\n",
              "      <td>41.560000</td>\n",
              "      <td>18.2</td>\n",
              "      <td>48.863333</td>\n",
              "      <td>17.066667</td>\n",
              "      <td>45.56</td>\n",
              "      <td>6.483333</td>\n",
              "      <td>733.6</td>\n",
              "      <td>92.0</td>\n",
              "      <td>6.666667</td>\n",
              "      <td>59.166667</td>\n",
              "      <td>5.2</td>\n",
              "      <td>18.606195</td>\n",
              "      <td>18.606195</td>\n",
              "    </tr>\n",
              "    <tr>\n",
              "      <th>2</th>\n",
              "      <td>50</td>\n",
              "      <td>19.89</td>\n",
              "      <td>46.300000</td>\n",
              "      <td>19.2</td>\n",
              "      <td>44.626667</td>\n",
              "      <td>19.79</td>\n",
              "      <td>44.933333</td>\n",
              "      <td>18.926667</td>\n",
              "      <td>45.890000</td>\n",
              "      <td>17.166667</td>\n",
              "      <td>55.09</td>\n",
              "      <td>6.560000</td>\n",
              "      <td>83.156667</td>\n",
              "      <td>17.200000</td>\n",
              "      <td>41.433333</td>\n",
              "      <td>18.2</td>\n",
              "      <td>48.730000</td>\n",
              "      <td>17.000000</td>\n",
              "      <td>45.50</td>\n",
              "      <td>6.366667</td>\n",
              "      <td>733.7</td>\n",
              "      <td>92.0</td>\n",
              "      <td>6.333333</td>\n",
              "      <td>55.333333</td>\n",
              "      <td>5.1</td>\n",
              "      <td>28.642668</td>\n",
              "      <td>28.642668</td>\n",
              "    </tr>\n",
              "    <tr>\n",
              "      <th>3</th>\n",
              "      <td>50</td>\n",
              "      <td>19.89</td>\n",
              "      <td>46.066667</td>\n",
              "      <td>19.2</td>\n",
              "      <td>44.590000</td>\n",
              "      <td>19.79</td>\n",
              "      <td>45.000000</td>\n",
              "      <td>18.890000</td>\n",
              "      <td>45.723333</td>\n",
              "      <td>17.166667</td>\n",
              "      <td>55.09</td>\n",
              "      <td>6.433333</td>\n",
              "      <td>83.423333</td>\n",
              "      <td>17.133333</td>\n",
              "      <td>41.290000</td>\n",
              "      <td>18.1</td>\n",
              "      <td>48.590000</td>\n",
              "      <td>17.000000</td>\n",
              "      <td>45.40</td>\n",
              "      <td>6.250000</td>\n",
              "      <td>733.8</td>\n",
              "      <td>92.0</td>\n",
              "      <td>6.000000</td>\n",
              "      <td>51.500000</td>\n",
              "      <td>5.0</td>\n",
              "      <td>45.410389</td>\n",
              "      <td>45.410389</td>\n",
              "    </tr>\n",
              "    <tr>\n",
              "      <th>4</th>\n",
              "      <td>60</td>\n",
              "      <td>19.89</td>\n",
              "      <td>46.333333</td>\n",
              "      <td>19.2</td>\n",
              "      <td>44.530000</td>\n",
              "      <td>19.79</td>\n",
              "      <td>45.000000</td>\n",
              "      <td>18.890000</td>\n",
              "      <td>45.530000</td>\n",
              "      <td>17.200000</td>\n",
              "      <td>55.09</td>\n",
              "      <td>6.366667</td>\n",
              "      <td>84.893333</td>\n",
              "      <td>17.200000</td>\n",
              "      <td>41.230000</td>\n",
              "      <td>18.1</td>\n",
              "      <td>48.590000</td>\n",
              "      <td>17.000000</td>\n",
              "      <td>45.40</td>\n",
              "      <td>6.133333</td>\n",
              "      <td>733.9</td>\n",
              "      <td>92.0</td>\n",
              "      <td>5.666667</td>\n",
              "      <td>47.666667</td>\n",
              "      <td>4.9</td>\n",
              "      <td>10.084097</td>\n",
              "      <td>10.084097</td>\n",
              "    </tr>\n",
              "  </tbody>\n",
              "</table>\n",
              "</div>"
            ],
            "text/plain": [
              "   Appliances     T1       RH_1  ...  Tdewpoint        rv1        rv2\n",
              "0          60  19.89  47.596667  ...        5.3  13.275433  13.275433\n",
              "1          60  19.89  46.693333  ...        5.2  18.606195  18.606195\n",
              "2          50  19.89  46.300000  ...        5.1  28.642668  28.642668\n",
              "3          50  19.89  46.066667  ...        5.0  45.410389  45.410389\n",
              "4          60  19.89  46.333333  ...        4.9  10.084097  10.084097\n",
              "\n",
              "[5 rows x 27 columns]"
            ]
          },
          "metadata": {},
          "execution_count": 8
        }
      ]
    },
    {
      "cell_type": "code",
      "metadata": {
        "colab": {
          "base_uri": "https://localhost:8080/",
          "height": 222
        },
        "id": "UKf8c4G9xe4R",
        "outputId": "3f341fd9-d73d-4913-8e15-3d805072b68b"
      },
      "source": [
        "normalized_df.head()"
      ],
      "execution_count": 9,
      "outputs": [
        {
          "output_type": "execute_result",
          "data": {
            "text/html": [
              "<div>\n",
              "<style scoped>\n",
              "    .dataframe tbody tr th:only-of-type {\n",
              "        vertical-align: middle;\n",
              "    }\n",
              "\n",
              "    .dataframe tbody tr th {\n",
              "        vertical-align: top;\n",
              "    }\n",
              "\n",
              "    .dataframe thead th {\n",
              "        text-align: right;\n",
              "    }\n",
              "</style>\n",
              "<table border=\"1\" class=\"dataframe\">\n",
              "  <thead>\n",
              "    <tr style=\"text-align: right;\">\n",
              "      <th></th>\n",
              "      <th>Appliances</th>\n",
              "      <th>T1</th>\n",
              "      <th>RH_1</th>\n",
              "      <th>T2</th>\n",
              "      <th>RH_2</th>\n",
              "      <th>T3</th>\n",
              "      <th>RH_3</th>\n",
              "      <th>T4</th>\n",
              "      <th>RH_4</th>\n",
              "      <th>T5</th>\n",
              "      <th>RH_5</th>\n",
              "      <th>T6</th>\n",
              "      <th>RH_6</th>\n",
              "      <th>T7</th>\n",
              "      <th>RH_7</th>\n",
              "      <th>T8</th>\n",
              "      <th>RH_8</th>\n",
              "      <th>T9</th>\n",
              "      <th>RH_9</th>\n",
              "      <th>T_out</th>\n",
              "      <th>Press_mm_hg</th>\n",
              "      <th>RH_out</th>\n",
              "      <th>Windspeed</th>\n",
              "      <th>Visibility</th>\n",
              "      <th>Tdewpoint</th>\n",
              "      <th>rv1</th>\n",
              "      <th>rv2</th>\n",
              "    </tr>\n",
              "  </thead>\n",
              "  <tbody>\n",
              "    <tr>\n",
              "      <th>0</th>\n",
              "      <td>0.046729</td>\n",
              "      <td>0.32735</td>\n",
              "      <td>0.566187</td>\n",
              "      <td>0.225345</td>\n",
              "      <td>0.684038</td>\n",
              "      <td>0.215188</td>\n",
              "      <td>0.746066</td>\n",
              "      <td>0.351351</td>\n",
              "      <td>0.764262</td>\n",
              "      <td>0.175506</td>\n",
              "      <td>0.381691</td>\n",
              "      <td>0.381070</td>\n",
              "      <td>0.841827</td>\n",
              "      <td>0.170594</td>\n",
              "      <td>0.653428</td>\n",
              "      <td>0.173329</td>\n",
              "      <td>0.661412</td>\n",
              "      <td>0.223032</td>\n",
              "      <td>0.677290</td>\n",
              "      <td>0.372990</td>\n",
              "      <td>0.097674</td>\n",
              "      <td>0.894737</td>\n",
              "      <td>0.500000</td>\n",
              "      <td>0.953846</td>\n",
              "      <td>0.538462</td>\n",
              "      <td>0.265449</td>\n",
              "      <td>0.265449</td>\n",
              "    </tr>\n",
              "    <tr>\n",
              "      <th>1</th>\n",
              "      <td>0.046729</td>\n",
              "      <td>0.32735</td>\n",
              "      <td>0.541326</td>\n",
              "      <td>0.225345</td>\n",
              "      <td>0.682140</td>\n",
              "      <td>0.215188</td>\n",
              "      <td>0.748871</td>\n",
              "      <td>0.351351</td>\n",
              "      <td>0.782437</td>\n",
              "      <td>0.175506</td>\n",
              "      <td>0.381691</td>\n",
              "      <td>0.375443</td>\n",
              "      <td>0.839872</td>\n",
              "      <td>0.170594</td>\n",
              "      <td>0.651064</td>\n",
              "      <td>0.173329</td>\n",
              "      <td>0.660155</td>\n",
              "      <td>0.226500</td>\n",
              "      <td>0.678532</td>\n",
              "      <td>0.369239</td>\n",
              "      <td>0.100000</td>\n",
              "      <td>0.894737</td>\n",
              "      <td>0.476190</td>\n",
              "      <td>0.894872</td>\n",
              "      <td>0.533937</td>\n",
              "      <td>0.372083</td>\n",
              "      <td>0.372083</td>\n",
              "    </tr>\n",
              "    <tr>\n",
              "      <th>2</th>\n",
              "      <td>0.037383</td>\n",
              "      <td>0.32735</td>\n",
              "      <td>0.530502</td>\n",
              "      <td>0.225345</td>\n",
              "      <td>0.679445</td>\n",
              "      <td>0.215188</td>\n",
              "      <td>0.755569</td>\n",
              "      <td>0.344745</td>\n",
              "      <td>0.778062</td>\n",
              "      <td>0.175506</td>\n",
              "      <td>0.380037</td>\n",
              "      <td>0.367487</td>\n",
              "      <td>0.830704</td>\n",
              "      <td>0.170594</td>\n",
              "      <td>0.646572</td>\n",
              "      <td>0.173329</td>\n",
              "      <td>0.655586</td>\n",
              "      <td>0.219563</td>\n",
              "      <td>0.676049</td>\n",
              "      <td>0.365488</td>\n",
              "      <td>0.102326</td>\n",
              "      <td>0.894737</td>\n",
              "      <td>0.452381</td>\n",
              "      <td>0.835897</td>\n",
              "      <td>0.529412</td>\n",
              "      <td>0.572848</td>\n",
              "      <td>0.572848</td>\n",
              "    </tr>\n",
              "    <tr>\n",
              "      <th>3</th>\n",
              "      <td>0.037383</td>\n",
              "      <td>0.32735</td>\n",
              "      <td>0.524080</td>\n",
              "      <td>0.225345</td>\n",
              "      <td>0.678414</td>\n",
              "      <td>0.215188</td>\n",
              "      <td>0.758685</td>\n",
              "      <td>0.341441</td>\n",
              "      <td>0.770949</td>\n",
              "      <td>0.175506</td>\n",
              "      <td>0.380037</td>\n",
              "      <td>0.363800</td>\n",
              "      <td>0.833401</td>\n",
              "      <td>0.164310</td>\n",
              "      <td>0.641489</td>\n",
              "      <td>0.164175</td>\n",
              "      <td>0.650788</td>\n",
              "      <td>0.219563</td>\n",
              "      <td>0.671909</td>\n",
              "      <td>0.361736</td>\n",
              "      <td>0.104651</td>\n",
              "      <td>0.894737</td>\n",
              "      <td>0.428571</td>\n",
              "      <td>0.776923</td>\n",
              "      <td>0.524887</td>\n",
              "      <td>0.908261</td>\n",
              "      <td>0.908261</td>\n",
              "    </tr>\n",
              "    <tr>\n",
              "      <th>4</th>\n",
              "      <td>0.046729</td>\n",
              "      <td>0.32735</td>\n",
              "      <td>0.531419</td>\n",
              "      <td>0.225345</td>\n",
              "      <td>0.676727</td>\n",
              "      <td>0.215188</td>\n",
              "      <td>0.758685</td>\n",
              "      <td>0.341441</td>\n",
              "      <td>0.762697</td>\n",
              "      <td>0.178691</td>\n",
              "      <td>0.380037</td>\n",
              "      <td>0.361859</td>\n",
              "      <td>0.848264</td>\n",
              "      <td>0.170594</td>\n",
              "      <td>0.639362</td>\n",
              "      <td>0.164175</td>\n",
              "      <td>0.650788</td>\n",
              "      <td>0.219563</td>\n",
              "      <td>0.671909</td>\n",
              "      <td>0.357985</td>\n",
              "      <td>0.106977</td>\n",
              "      <td>0.894737</td>\n",
              "      <td>0.404762</td>\n",
              "      <td>0.717949</td>\n",
              "      <td>0.520362</td>\n",
              "      <td>0.201611</td>\n",
              "      <td>0.201611</td>\n",
              "    </tr>\n",
              "  </tbody>\n",
              "</table>\n",
              "</div>"
            ],
            "text/plain": [
              "   Appliances       T1      RH_1  ...  Tdewpoint       rv1       rv2\n",
              "0    0.046729  0.32735  0.566187  ...   0.538462  0.265449  0.265449\n",
              "1    0.046729  0.32735  0.541326  ...   0.533937  0.372083  0.372083\n",
              "2    0.037383  0.32735  0.530502  ...   0.529412  0.572848  0.572848\n",
              "3    0.037383  0.32735  0.524080  ...   0.524887  0.908261  0.908261\n",
              "4    0.046729  0.32735  0.531419  ...   0.520362  0.201611  0.201611\n",
              "\n",
              "[5 rows x 27 columns]"
            ]
          },
          "metadata": {},
          "execution_count": 9
        }
      ]
    },
    {
      "cell_type": "markdown",
      "metadata": {
        "id": "EuFWq-arsYQR"
      },
      "source": [
        "### **Question 12**"
      ]
    },
    {
      "cell_type": "code",
      "metadata": {
        "id": "E0RPeRyqsboU"
      },
      "source": [
        "#Q: From the dataset, fit a linear model on the relationship between the temperature in the living room in Celsius (x = T2) and the temperature outside the building (y = T6). What is the R^2 value in two D.P?\n",
        "\n",
        "#selecting the predictors\n",
        "features_df = normalized_df['T2'].values\n",
        "features_df = features_df.reshape(-1,1)\n",
        "\n",
        "\n",
        "#selecing the target variable\n",
        "target_df = normalized_df['T6'].values\n",
        "target_df = target_df.reshape(-1, 1)\n",
        "\n",
        "#Splitting into train and test set\n",
        "x_train, x_test, y_train, y_test = train_test_split(features_df, target_df, test_size = 0.3, random_state = 42)\n"
      ],
      "execution_count": 39,
      "outputs": []
    },
    {
      "cell_type": "code",
      "metadata": {
        "id": "hxGglgX98zLq"
      },
      "source": [
        "#fitting a linear model between temperature in the living room and temperature outside the building\n",
        "linear_model = LinearRegression()\n",
        "linear_model.fit(x_train, y_train)\n",
        "predict_y = linear_model.predict(x_test)"
      ],
      "execution_count": 40,
      "outputs": []
    },
    {
      "cell_type": "code",
      "metadata": {
        "colab": {
          "base_uri": "https://localhost:8080/"
        },
        "id": "v7Wa9rgTEYc_",
        "outputId": "85bb6b67-bd2a-4af3-fb60-a99ab3abcbf8"
      },
      "source": [
        "#Calculating the r2_coeffiecients\n",
        "r_score = r2_score(y_test, predict_y)\n",
        "print(round(r_score, 2))"
      ],
      "execution_count": 55,
      "outputs": [
        {
          "output_type": "stream",
          "name": "stdout",
          "text": [
            "0.64\n"
          ]
        }
      ]
    },
    {
      "cell_type": "markdown",
      "metadata": {
        "id": "Sq1JZ1gUNy6R"
      },
      "source": [
        "**Ans: 0.64**"
      ]
    },
    {
      "cell_type": "markdown",
      "metadata": {
        "id": "dyPZFgk4_3K0"
      },
      "source": [
        "### **Predicting the Appliance energy**"
      ]
    },
    {
      "cell_type": "code",
      "metadata": {
        "id": "DhvrLoH4soME"
      },
      "source": [
        "#extracting the features\n",
        "features_df = normalized_df.drop('Appliances', axis= 1)\n",
        "\n",
        "#extracting the target values\n",
        "target_df = normalized_df['Appliances']"
      ],
      "execution_count": 58,
      "outputs": []
    },
    {
      "cell_type": "code",
      "metadata": {
        "id": "UVqwLsas__2v"
      },
      "source": [
        "#Splitting into training and testing data\n",
        "x_train, x_test, y_train, y_test = train_test_split(features_df, target_df, test_size= 0.3, random_state= 42)\n"
      ],
      "execution_count": 59,
      "outputs": []
    },
    {
      "cell_type": "code",
      "metadata": {
        "id": "qzPOSHFIAGal"
      },
      "source": [
        "#defining the model and fitting it to the train data\n",
        "\n",
        "LR = LinearRegression()\n",
        "LR.fit(x_train, y_train)\n",
        "predicted_y = LR.predict(x_test)"
      ],
      "execution_count": 60,
      "outputs": []
    },
    {
      "cell_type": "markdown",
      "metadata": {
        "id": "B93wQypYsnVy"
      },
      "source": [
        "### **Question 13**"
      ]
    },
    {
      "cell_type": "code",
      "metadata": {
        "colab": {
          "base_uri": "https://localhost:8080/"
        },
        "id": "ZF6vpge_AMXD",
        "outputId": "ee0856b4-b975-42da-acaf-b2085cd466ab"
      },
      "source": [
        "#Calculating the mean absolute error\n",
        "mae = mean_absolute_error(y_test, predicted_y)\n",
        "print(round(mae, 2))"
      ],
      "execution_count": 61,
      "outputs": [
        {
          "output_type": "stream",
          "name": "stdout",
          "text": [
            "0.05\n"
          ]
        }
      ]
    },
    {
      "cell_type": "markdown",
      "metadata": {
        "id": "WFUBm7LyOD1e"
      },
      "source": [
        "**Answer: 0.05**\n"
      ]
    },
    {
      "cell_type": "markdown",
      "metadata": {
        "id": "_M2BRiwFso88"
      },
      "source": [
        "### **Question 14**"
      ]
    },
    {
      "cell_type": "code",
      "metadata": {
        "colab": {
          "base_uri": "https://localhost:8080/"
        },
        "id": "aWYEeKXCsqUi",
        "outputId": "9ef0dcd4-ca41-4211-d750-70a6745849d7"
      },
      "source": [
        "#calculating residual sum of squares to 2DP\n",
        "rss = np.sum(np.square(y_test - predicted_y))\n",
        "round(rss,2)"
      ],
      "execution_count": 62,
      "outputs": [
        {
          "output_type": "execute_result",
          "data": {
            "text/plain": [
              "45.35"
            ]
          },
          "metadata": {},
          "execution_count": 62
        }
      ]
    },
    {
      "cell_type": "markdown",
      "metadata": {
        "id": "5fJ-HfrDOfyL"
      },
      "source": [
        "**Answer: 45.35**"
      ]
    },
    {
      "cell_type": "markdown",
      "metadata": {
        "id": "ezdV-mt3ssfs"
      },
      "source": [
        "### **Question 15**"
      ]
    },
    {
      "cell_type": "code",
      "metadata": {
        "id": "S0siD49lstsc"
      },
      "source": [
        "#Calculating the root mean squared error to 3DP\n",
        "rmse = round(np.sqrt(mse), 3)"
      ],
      "execution_count": 67,
      "outputs": []
    },
    {
      "cell_type": "markdown",
      "metadata": {
        "id": "6dDPnol0O76d"
      },
      "source": [
        "**Answer: 0.088**\n"
      ]
    },
    {
      "cell_type": "markdown",
      "metadata": {
        "id": "NERqq7tbsuiI"
      },
      "source": [
        "### **Question 16**"
      ]
    },
    {
      "cell_type": "code",
      "metadata": {
        "colab": {
          "base_uri": "https://localhost:8080/"
        },
        "id": "Pdzcx5Mxsvdb",
        "outputId": "c8723a6f-b743-4931-e9d4-1aaef1323476"
      },
      "source": [
        "#Calculating the Coeffiecient of Determination in 2DP\n",
        "r_score = round(r2_score(y_test, predicted_y), 2)\n",
        "print(r_score)"
      ],
      "execution_count": 69,
      "outputs": [
        {
          "output_type": "stream",
          "name": "stdout",
          "text": [
            "0.15\n"
          ]
        }
      ]
    },
    {
      "cell_type": "markdown",
      "metadata": {
        "id": "1SE7z_a7Pwh8"
      },
      "source": [
        "**Answer: 0.15**\n"
      ]
    },
    {
      "cell_type": "markdown",
      "metadata": {
        "id": "ssZ7c2tssv8a"
      },
      "source": [
        "### **Question 17**"
      ]
    },
    {
      "cell_type": "code",
      "metadata": {
        "id": "b1wXsl5Csxbe"
      },
      "source": [
        "#Q: Obtain the feature weights from your linear model above. Which features have the lowest and highest weights respectively?\n",
        "\n",
        "\n",
        "\n",
        "#defining the get_weight function\n",
        "\n",
        "def get_weight(model, feature, col_name):\n",
        "  weights = pd.Series(model.coef_, feature.columns).sort_values()\n",
        "  weights_df = pd.DataFrame(weights).reset_index()\n",
        "  weights_df.columns = ['Features', col_name]\n",
        "  weights_df[col_name].round(3)\n",
        "  return weights_df\n",
        "\n",
        "linear_model_weight = get_weight(LR, x_train, 'linear_model_weight').set_index('Features')"
      ],
      "execution_count": 64,
      "outputs": []
    },
    {
      "cell_type": "code",
      "metadata": {
        "colab": {
          "base_uri": "https://localhost:8080/",
          "height": 876
        },
        "id": "bUZt7GUaCP-p",
        "outputId": "af1d255a-7dfc-4f2e-bfde-ccb255d4d0bc"
      },
      "source": [
        "linear_model_weight.sort_values(by= 'linear_model_weight')\n"
      ],
      "execution_count": 65,
      "outputs": [
        {
          "output_type": "execute_result",
          "data": {
            "text/html": [
              "<div>\n",
              "<style scoped>\n",
              "    .dataframe tbody tr th:only-of-type {\n",
              "        vertical-align: middle;\n",
              "    }\n",
              "\n",
              "    .dataframe tbody tr th {\n",
              "        vertical-align: top;\n",
              "    }\n",
              "\n",
              "    .dataframe thead th {\n",
              "        text-align: right;\n",
              "    }\n",
              "</style>\n",
              "<table border=\"1\" class=\"dataframe\">\n",
              "  <thead>\n",
              "    <tr style=\"text-align: right;\">\n",
              "      <th></th>\n",
              "      <th>linear_model_weight</th>\n",
              "    </tr>\n",
              "    <tr>\n",
              "      <th>Features</th>\n",
              "      <th></th>\n",
              "    </tr>\n",
              "  </thead>\n",
              "  <tbody>\n",
              "    <tr>\n",
              "      <th>RH_2</th>\n",
              "      <td>-0.456698</td>\n",
              "    </tr>\n",
              "    <tr>\n",
              "      <th>T_out</th>\n",
              "      <td>-0.321860</td>\n",
              "    </tr>\n",
              "    <tr>\n",
              "      <th>T2</th>\n",
              "      <td>-0.236178</td>\n",
              "    </tr>\n",
              "    <tr>\n",
              "      <th>T9</th>\n",
              "      <td>-0.189941</td>\n",
              "    </tr>\n",
              "    <tr>\n",
              "      <th>RH_8</th>\n",
              "      <td>-0.157595</td>\n",
              "    </tr>\n",
              "    <tr>\n",
              "      <th>RH_out</th>\n",
              "      <td>-0.077671</td>\n",
              "    </tr>\n",
              "    <tr>\n",
              "      <th>RH_7</th>\n",
              "      <td>-0.044614</td>\n",
              "    </tr>\n",
              "    <tr>\n",
              "      <th>RH_9</th>\n",
              "      <td>-0.039800</td>\n",
              "    </tr>\n",
              "    <tr>\n",
              "      <th>T5</th>\n",
              "      <td>-0.015657</td>\n",
              "    </tr>\n",
              "    <tr>\n",
              "      <th>T1</th>\n",
              "      <td>-0.003281</td>\n",
              "    </tr>\n",
              "    <tr>\n",
              "      <th>rv1</th>\n",
              "      <td>0.000770</td>\n",
              "    </tr>\n",
              "    <tr>\n",
              "      <th>rv2</th>\n",
              "      <td>0.000770</td>\n",
              "    </tr>\n",
              "    <tr>\n",
              "      <th>Press_mm_hg</th>\n",
              "      <td>0.006839</td>\n",
              "    </tr>\n",
              "    <tr>\n",
              "      <th>T7</th>\n",
              "      <td>0.010319</td>\n",
              "    </tr>\n",
              "    <tr>\n",
              "      <th>Visibility</th>\n",
              "      <td>0.012307</td>\n",
              "    </tr>\n",
              "    <tr>\n",
              "      <th>RH_5</th>\n",
              "      <td>0.016006</td>\n",
              "    </tr>\n",
              "    <tr>\n",
              "      <th>RH_4</th>\n",
              "      <td>0.026386</td>\n",
              "    </tr>\n",
              "    <tr>\n",
              "      <th>T4</th>\n",
              "      <td>0.028981</td>\n",
              "    </tr>\n",
              "    <tr>\n",
              "      <th>Windspeed</th>\n",
              "      <td>0.029183</td>\n",
              "    </tr>\n",
              "    <tr>\n",
              "      <th>RH_6</th>\n",
              "      <td>0.038049</td>\n",
              "    </tr>\n",
              "    <tr>\n",
              "      <th>RH_3</th>\n",
              "      <td>0.096048</td>\n",
              "    </tr>\n",
              "    <tr>\n",
              "      <th>T8</th>\n",
              "      <td>0.101995</td>\n",
              "    </tr>\n",
              "    <tr>\n",
              "      <th>Tdewpoint</th>\n",
              "      <td>0.117758</td>\n",
              "    </tr>\n",
              "    <tr>\n",
              "      <th>T6</th>\n",
              "      <td>0.236425</td>\n",
              "    </tr>\n",
              "    <tr>\n",
              "      <th>T3</th>\n",
              "      <td>0.290627</td>\n",
              "    </tr>\n",
              "    <tr>\n",
              "      <th>RH_1</th>\n",
              "      <td>0.553547</td>\n",
              "    </tr>\n",
              "  </tbody>\n",
              "</table>\n",
              "</div>"
            ],
            "text/plain": [
              "             linear_model_weight\n",
              "Features                        \n",
              "RH_2                   -0.456698\n",
              "T_out                  -0.321860\n",
              "T2                     -0.236178\n",
              "T9                     -0.189941\n",
              "RH_8                   -0.157595\n",
              "RH_out                 -0.077671\n",
              "RH_7                   -0.044614\n",
              "RH_9                   -0.039800\n",
              "T5                     -0.015657\n",
              "T1                     -0.003281\n",
              "rv1                     0.000770\n",
              "rv2                     0.000770\n",
              "Press_mm_hg             0.006839\n",
              "T7                      0.010319\n",
              "Visibility              0.012307\n",
              "RH_5                    0.016006\n",
              "RH_4                    0.026386\n",
              "T4                      0.028981\n",
              "Windspeed               0.029183\n",
              "RH_6                    0.038049\n",
              "RH_3                    0.096048\n",
              "T8                      0.101995\n",
              "Tdewpoint               0.117758\n",
              "T6                      0.236425\n",
              "T3                      0.290627\n",
              "RH_1                    0.553547"
            ]
          },
          "metadata": {},
          "execution_count": 65
        }
      ]
    },
    {
      "cell_type": "markdown",
      "metadata": {
        "id": "htqNNjGhRMup"
      },
      "source": [
        "From the table above, we see that RH_2 and RH_1 are the smallest and largest weights respectively"
      ]
    },
    {
      "cell_type": "markdown",
      "metadata": {
        "id": "F6Y7bhegRovq"
      },
      "source": [
        "**Answer = RH_2, RH_1**\n"
      ]
    },
    {
      "cell_type": "markdown",
      "metadata": {
        "id": "fhxd-wnFsyt1"
      },
      "source": [
        "### **Question 18**"
      ]
    },
    {
      "cell_type": "code",
      "metadata": {
        "colab": {
          "base_uri": "https://localhost:8080/"
        },
        "id": "3DE4UTaZszTB",
        "outputId": "01dcbc3c-fd00-4898-e282-731f62a0132a"
      },
      "source": [
        "#Q: Train a ridge regression model with an alpha value of 0.4. Is there any change to the root mean squared error (RMSE) when evaluated on the test set?\n",
        "\n",
        "#training a regression model\n",
        "ridge = Ridge(alpha= 0.4)\n",
        "ridge.fit(x_train, y_train)\n",
        "\n",
        "ridge_y = ridge.predict(x_test)\n",
        "\n",
        "#Calculating the root mean squared error\n",
        "#Calculating mse first\n",
        "ridge_mse = mean_squared_error(y_test, ridge_y)\n",
        "\n",
        "ridge_rmse = round(np.sqrt(ridge_mse), 3)\n",
        "\n",
        "#comparing with root_mean_squared_error calculated earlier\n",
        "#prints True if ridge_rmse is the same as rmse\n",
        "print(rmse == ridge_rmse)\n"
      ],
      "execution_count": 73,
      "outputs": [
        {
          "output_type": "stream",
          "name": "stdout",
          "text": [
            "True\n"
          ]
        }
      ]
    },
    {
      "cell_type": "markdown",
      "metadata": {
        "id": "yl1lHWIdTOyF"
      },
      "source": [
        "We can see from here that the root mean squared error does not change"
      ]
    },
    {
      "cell_type": "markdown",
      "metadata": {
        "id": "033nhzJqTrvy"
      },
      "source": [
        "**Answer: No**\n"
      ]
    },
    {
      "cell_type": "markdown",
      "metadata": {
        "id": "aJ5wDY4rszzs"
      },
      "source": [
        "### **Question 19**"
      ]
    },
    {
      "cell_type": "code",
      "metadata": {
        "colab": {
          "base_uri": "https://localhost:8080/"
        },
        "id": "H12Ze6MNs0W0",
        "outputId": "cc6de9aa-c097-4036-f966-4565374eda81"
      },
      "source": [
        "#Q:Train a lasso regression model with an alpha value of 0.001 and obtain the new feature weights with it. How many of the features have non-zero feature weights?\n",
        "\n",
        "\n",
        "\n",
        "#training the lasso weights\n",
        "lasso = Lasso(alpha= 0.001)\n",
        "lasso.fit(x_train, y_train)\n",
        "\n",
        "lasso_weights = get_weight(lasso, x_train, 'Lasso_weight_model').set_index('Features')\n",
        "print(lasso_weights)\n",
        "\n",
        "#counting the number of non-zero weights\n",
        "len(lasso_weights[lasso_weights['Lasso_weight_model'] != 0])\n"
      ],
      "execution_count": 76,
      "outputs": [
        {
          "output_type": "stream",
          "name": "stdout",
          "text": [
            "             Lasso_weight_model\n",
            "Features                       \n",
            "RH_out                -0.049557\n",
            "RH_8                  -0.000110\n",
            "T1                     0.000000\n",
            "Tdewpoint              0.000000\n",
            "Visibility             0.000000\n",
            "Press_mm_hg           -0.000000\n",
            "T_out                  0.000000\n",
            "RH_9                  -0.000000\n",
            "T9                    -0.000000\n",
            "T8                     0.000000\n",
            "RH_7                  -0.000000\n",
            "rv1                   -0.000000\n",
            "T7                    -0.000000\n",
            "T6                     0.000000\n",
            "RH_5                   0.000000\n",
            "T5                    -0.000000\n",
            "RH_4                   0.000000\n",
            "T4                    -0.000000\n",
            "RH_3                   0.000000\n",
            "T3                     0.000000\n",
            "RH_2                  -0.000000\n",
            "T2                     0.000000\n",
            "RH_6                  -0.000000\n",
            "rv2                   -0.000000\n",
            "Windspeed              0.002912\n",
            "RH_1                   0.017880\n"
          ]
        },
        {
          "output_type": "execute_result",
          "data": {
            "text/plain": [
              "4"
            ]
          },
          "metadata": {},
          "execution_count": 76
        }
      ]
    },
    {
      "cell_type": "markdown",
      "metadata": {
        "id": "aTbuyc7ST73W"
      },
      "source": [
        "**Answer: 4**\n"
      ]
    },
    {
      "cell_type": "markdown",
      "metadata": {
        "id": "Pj6oXkqLs0-R"
      },
      "source": [
        "### **Question 20**"
      ]
    },
    {
      "cell_type": "code",
      "metadata": {
        "colab": {
          "base_uri": "https://localhost:8080/"
        },
        "id": "VDZgI9Bas1f0",
        "outputId": "0b630132-b60d-44df-b2f1-ea83b6772de2"
      },
      "source": [
        "#Q: What is the new RMSE with the Lasso Regression (in 3 decimal places)?\n",
        "\n",
        "#obtaining the new rmse for lasso_regression\n",
        "lasso_y = lasso.predict(x_test)\n",
        "\n",
        "#Calculating the root mean squared error\n",
        "\n",
        "#Calculating mse first\n",
        "lasso_mse = mean_squared_error(y_test, lasso_y)\n",
        "\n",
        "lasso_rmse = np.sqrt(lasso_mse)\n",
        "print(round(lasso_rmse, 3))"
      ],
      "execution_count": 34,
      "outputs": [
        {
          "output_type": "stream",
          "name": "stdout",
          "text": [
            "0.094\n"
          ]
        }
      ]
    },
    {
      "cell_type": "markdown",
      "metadata": {
        "id": "evgJpVgEUnq1"
      },
      "source": [
        "**Answer: 0.094**\n"
      ]
    },
    {
      "cell_type": "code",
      "metadata": {
        "id": "DMDS_UZ6DjVP"
      },
      "source": [
        ""
      ],
      "execution_count": null,
      "outputs": []
    }
  ]
}